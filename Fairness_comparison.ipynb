{
 "cells": [
  {
   "cell_type": "markdown",
   "metadata": {},
   "source": [
    "### Hiring"
   ]
  },
  {
   "cell_type": "code",
   "execution_count": null,
   "metadata": {},
   "outputs": [],
   "source": [
    "import numpy as np"
   ]
  },
  {
   "cell_type": "markdown",
   "metadata": {},
   "source": [
    "- Score"
   ]
  },
  {
   "cell_type": "code",
   "execution_count": null,
   "metadata": {},
   "outputs": [],
   "source": [
    "score_theoratic_0, score_GPT_0, score_original_0 = np.load('results/hiring_strategy_scores_0.npy'), np.load('results/4o_hiring_strategy_scores_0_GPT.npy'), np.load('results/hiring_original_scores_0.npy')\n",
    "score_theoratic_1, score_GPT_1, score_original_1 = np.load('results/hiring_strategy_scores_1.npy'), np.load('results/4o_hiring_strategy_scores_1_GPT.npy'), np.load('results/hiring_original_scores_1.npy')\n",
    "score_GPT41_0, score_GPT41_1 = np.load('results/41_hiring_strategy_scores_0_GPT.npy'), np.load('results/41_hiring_strategy_scores_1_GPT.npy')\n",
    "\n",
    "print(\"-------theoretic results-------\")\n",
    "increase_0 = score_theoratic_0.mean() - score_original_0.mean()\n",
    "increase_1 = score_theoratic_1.mean() - score_original_1.mean()\n",
    "print(\"group 0 increase:\", increase_0)\n",
    "print(\"group 1 increase:\", increase_1)\n",
    "print(\"disparity between 0 and 1\", increase_0 - increase_1)\n",
    "\n",
    "print(\"-------GPT results-------\")\n",
    "increase_0 = score_GPT_0.mean() - score_original_0.mean()\n",
    "increase_1 = score_GPT_1.mean() - score_original_1.mean()\n",
    "print(\"group 0 increase:\", increase_0)\n",
    "print(\"group 1 increase:\", increase_1)\n",
    "print(\"disparity between 0 and 1\", increase_0 - increase_1)\n",
    "\n",
    "print(\"-------GPT41 results-------\")\n",
    "increase_0 = score_GPT41_0.mean() - score_original_0.mean()\n",
    "increase_1 = score_GPT41_1.mean() - score_original_1.mean()\n",
    "print(\"group 0 increase:\", increase_0)\n",
    "print(\"group 1 increase:\", increase_1)\n",
    "print(\"disparity between 0 and 1\", increase_0 - increase_1)\n"
   ]
  },
  {
   "cell_type": "markdown",
   "metadata": {},
   "source": [
    "- improvement scenario 1"
   ]
  },
  {
   "cell_type": "code",
   "execution_count": null,
   "metadata": {},
   "outputs": [],
   "source": [
    "score_theoratic_0, score_GPT_0, score_original_0 = np.load('results/hiring_improve_scores_0.npy'), np.load('results/4o_hiring_improve_scores_0_GPT.npy'), np.load('results/hiring_original_scores_0.npy')\n",
    "score_theoratic_1, score_GPT_1, score_original_1 = np.load('results/hiring_improve_scores_1.npy'), np.load('results/4o_hiring_improve_scores_1_GPT.npy'), np.load('results/hiring_original_scores_1.npy')\n",
    "score_GPT41_0, score_GPT41_1 = np.load('results/41_hiring_improve_scores_0_GPT.npy'), np.load('results/41_hiring_improve_scores_1_GPT.npy')\n",
    "\n",
    "print(\"-------theoretic results-------\")\n",
    "increase_0 = score_theoratic_0.mean() - score_original_0.mean()\n",
    "increase_1 = score_theoratic_1.mean() - score_original_1.mean()\n",
    "print(\"group 0 increase:\", increase_0)\n",
    "print(\"group 1 increase:\", increase_1)\n",
    "print(\"disparity between 0 and 1\", increase_0 - increase_1)\n",
    "\n",
    "print(\"-------GPT results-------\")\n",
    "increase_0 = score_GPT_0.mean() - score_original_0.mean()\n",
    "increase_1 = score_GPT_1.mean() - score_original_1.mean()\n",
    "print(\"group 0 increase:\", increase_0)\n",
    "print(\"group 1 increase:\", increase_1)\n",
    "print(\"disparity between 0 and 1\", increase_0 - increase_1)\n",
    "\n",
    "print(\"-------GPT41 results-------\")\n",
    "increase_0 = score_GPT41_0.mean() - score_original_0.mean()\n",
    "increase_1 = score_GPT41_1.mean() - score_original_1.mean()\n",
    "print(\"group 0 increase:\", increase_0)\n",
    "print(\"group 1 increase:\", increase_1)\n",
    "print(\"disparity between 0 and 1\", increase_0 - increase_1)"
   ]
  },
  {
   "cell_type": "markdown",
   "metadata": {},
   "source": [
    "- Improvement scenario 2"
   ]
  },
  {
   "cell_type": "code",
   "execution_count": null,
   "metadata": {},
   "outputs": [],
   "source": [
    "score_theoratic_0, score_GPT_0, score_original_0 = np.load('results/f_MLPLR_hiring_improve_qualifications_0.npy'), np.load('results/f_MLPLR_4o_hiring_improve_qualifications_0_GPT.npy'), np.load('results/f_MLPLR_hiring_original_qualifications_0.npy')\n",
    "score_theoratic_1, score_GPT_1, score_original_1 = np.load('results/f_MLPLR_hiring_improve_qualifications_1.npy'), np.load('results/f_MLPLR_4o_hiring_improve_qualifications_1_GPT.npy'), np.load('results/f_MLPLR_hiring_original_qualifications_1.npy')\n",
    "\n",
    "score_GPT41_0, score_GPT41_1 = np.load('results/f_MLPLR_41_hiring_improve_qualifications_0_GPT.npy'), np.load('results/f_MLPLR_41_hiring_improve_qualifications_1_GPT.npy')\n",
    "\n",
    "print(\"-------theoretic results-------\")\n",
    "increase_0 = score_theoratic_0.mean() - score_original_0.mean()\n",
    "increase_1 = score_theoratic_1.mean() - score_original_1.mean()\n",
    "print(\"group 0 increase:\", increase_0)\n",
    "print(\"group 1 increase:\", increase_1)\n",
    "print(\"disparity between 0 and 1\", increase_0 - increase_1)\n",
    "\n",
    "print(\"-------GPT results-------\")\n",
    "increase_0 = score_GPT_0.mean() - score_original_0.mean()\n",
    "increase_1 = score_GPT_1.mean() - score_original_1.mean()\n",
    "print(\"group 0 increase:\", increase_0)\n",
    "print(\"group 1 increase:\", increase_1)\n",
    "print(\"disparity between 0 and 1\", increase_0 - increase_1)\n",
    "\n",
    "print(\"-------GPT41 results-------\")\n",
    "increase_0 = score_GPT41_0.mean() - score_original_0.mean()\n",
    "increase_1 = score_GPT41_1.mean() - score_original_1.mean()\n",
    "print(\"group 0 increase:\", increase_0)\n",
    "print(\"group 1 increase:\", increase_1)\n",
    "print(\"disparity between 0 and 1\", increase_0 - increase_1)\n",
    "\n"
   ]
  },
  {
   "cell_type": "markdown",
   "metadata": {},
   "source": [
    "### Income"
   ]
  },
  {
   "cell_type": "markdown",
   "metadata": {},
   "source": [
    "- Score"
   ]
  },
  {
   "cell_type": "code",
   "execution_count": null,
   "metadata": {},
   "outputs": [],
   "source": [
    "score_theoratic_0, score_GPT_0, score_original_0 = np.load('results/income_strategy_scores_0.npy'), np.load('results/4o_income_strategy_scores_0_GPT.npy'), np.load('results/income_original_scores_0.npy')\n",
    "score_theoratic_1, score_GPT_1, score_original_1 = np.load('results/income_strategy_scores_1.npy'), np.load('results/4o_income_strategy_scores_1_GPT.npy'), np.load('results/income_original_scores_1.npy')\n",
    "score_GPT41_0, score_GPT41_1 = np.load('results/41_income_strategy_scores_0_GPT.npy'), np.load('results/41_income_strategy_scores_1_GPT.npy')\n",
    "\n",
    "print(\"-------theoretic results-------\")\n",
    "increase_0 = score_theoratic_0.mean() - score_original_0.mean()\n",
    "increase_1 = score_theoratic_1.mean() - score_original_1.mean()\n",
    "print(\"group 0 increase:\", increase_0)\n",
    "print(\"group 1 increase:\", increase_1)\n",
    "print(\"disparity between 0 and 1\", increase_0 - increase_1)\n",
    "\n",
    "print(\"-------GPT results-------\")\n",
    "increase_0 = score_GPT_0.mean() - score_original_0.mean()\n",
    "increase_1 = score_GPT_1.mean() - score_original_1.mean()\n",
    "print(\"group 0 increase:\", increase_0)\n",
    "print(\"group 1 increase:\", increase_1)\n",
    "print(\"disparity between 0 and 1\", increase_0 - increase_1)\n",
    "\n",
    "print(\"-------GPT41 results-------\")\n",
    "increase_0 = score_GPT41_0.mean() - score_original_0.mean()\n",
    "increase_1 = score_GPT41_1.mean() - score_original_1.mean()\n",
    "print(\"group 0 increase:\", increase_0)\n",
    "print(\"group 1 increase:\", increase_1)\n",
    "print(\"disparity between 0 and 1\", increase_0 - increase_1)\n"
   ]
  },
  {
   "cell_type": "markdown",
   "metadata": {},
   "source": [
    "- Improvement scenario 1"
   ]
  },
  {
   "cell_type": "code",
   "execution_count": null,
   "metadata": {},
   "outputs": [],
   "source": [
    "score_theoratic_0, score_GPT_0, score_original_0 = np.load('results/income_improve_scores_0.npy'), np.load('results/4o_income_improve_scores_0_GPT.npy'), np.load('results/income_original_scores_0.npy')\n",
    "score_theoratic_1, score_GPT_1, score_original_1 = np.load('results/income_improve_scores_1.npy'), np.load('results/4o_income_improve_scores_1_GPT.npy'), np.load('results/income_original_scores_1.npy')\n",
    "score_GPT41_0, score_GPT41_1 = np.load('results/41_income_improve_scores_0_GPT.npy'), np.load('results/41_income_improve_scores_1_GPT.npy')\n",
    "\n",
    "print(\"-------theoretic results-------\")\n",
    "increase_0 = score_theoratic_0.mean() - score_original_0.mean()\n",
    "increase_1 = score_theoratic_1.mean() - score_original_1.mean()\n",
    "print(\"group 0 increase:\", increase_0)\n",
    "print(\"group 1 increase:\", increase_1)\n",
    "print(\"disparity between 0 and 1\", increase_0 - increase_1)\n",
    "\n",
    "print(\"-------GPT results-------\")\n",
    "increase_0 = score_GPT_0.mean() - score_original_0.mean()\n",
    "increase_1 = score_GPT_1.mean() - score_original_1.mean()\n",
    "print(\"group 0 increase:\", increase_0)\n",
    "print(\"group 1 increase:\", increase_1)\n",
    "print(\"disparity between 0 and 1\", increase_0 - increase_1)\n",
    "\n",
    "print(\"-------GPT41 results-------\")\n",
    "increase_0 = score_GPT41_0.mean() - score_original_0.mean()\n",
    "increase_1 = score_GPT41_1.mean() - score_original_1.mean()\n",
    "print(\"group 0 increase:\", increase_0)\n",
    "print(\"group 1 increase:\", increase_1)\n",
    "print(\"disparity between 0 and 1\", increase_0 - increase_1)"
   ]
  },
  {
   "cell_type": "markdown",
   "metadata": {},
   "source": [
    "- Improvement scenario 2"
   ]
  },
  {
   "cell_type": "code",
   "execution_count": null,
   "metadata": {},
   "outputs": [],
   "source": [
    "score_theoratic_0, score_GPT_0, score_original_0 = np.load('results/f_MLPLR_income_improve_qualifications_0.npy'), np.load('results/f_MLPLR_4o_income_improve_qualifications_0_GPT.npy'), np.load('results/f_MLPLR_income_original_qualifications_0.npy')\n",
    "score_theoratic_1, score_GPT_1, score_original_1 = np.load('results/f_MLPLR_income_improve_qualifications_1.npy'), np.load('results/f_MLPLR_4o_income_improve_qualifications_1_GPT.npy'), np.load('results/f_MLPLR_income_original_qualifications_1.npy')\n",
    "score_GPT41_0, score_GPT41_1 = np.load('results/f_MLPLR_41_income_improve_qualifications_0_GPT.npy'), np.load('results/f_MLPLR_41_income_improve_qualifications_1_GPT.npy')\n",
    "\n",
    "print(\"-------theoretic results-------\")\n",
    "increase_0 = score_theoratic_0.mean() - score_original_0.mean()\n",
    "increase_1 = score_theoratic_1.mean() - score_original_1.mean()\n",
    "print(\"group 0 increase:\", increase_0)\n",
    "print(\"group 1 increase:\", increase_1)\n",
    "print(\"disparity between 0 and 1\", increase_0 - increase_1)\n",
    "\n",
    "print(\"-------GPT results-------\")\n",
    "increase_0 = score_GPT_0.mean() - score_original_0.mean()\n",
    "increase_1 = score_GPT_1.mean() - score_original_1.mean()\n",
    "print(\"group 0 increase:\", increase_0)\n",
    "print(\"group 1 increase:\", increase_1)\n",
    "print(\"disparity between 0 and 1\", increase_0 - increase_1)\n",
    "\n",
    "print(\"-------GPT41 results-------\")\n",
    "increase_0 = score_GPT41_0.mean() - score_original_0.mean()\n",
    "increase_1 = score_GPT41_1.mean() - score_original_1.mean()\n",
    "print(\"group 0 increase:\", increase_0)\n",
    "print(\"group 1 increase:\", increase_1)\n",
    "print(\"disparity between 0 and 1\", increase_0 - increase_1)\n",
    "\n"
   ]
  },
  {
   "cell_type": "markdown",
   "metadata": {},
   "source": [
    "### Law school"
   ]
  },
  {
   "cell_type": "markdown",
   "metadata": {},
   "source": [
    "- score"
   ]
  },
  {
   "cell_type": "code",
   "execution_count": null,
   "metadata": {},
   "outputs": [],
   "source": [
    "score_theoratic_0, score_GPT_0, score_original_0 = np.load('results/law_strategy_scores_0.npy'), np.load('results/4o_law_strategy_scores_0_GPT.npy'), np.load('results/law_original_scores_0.npy')\n",
    "score_theoratic_1, score_GPT_1, score_original_1 = np.load('results/law_strategy_scores_1.npy'), np.load('results/4o_law_strategy_scores_1_GPT.npy'), np.load('results/law_original_scores_1.npy')\n",
    "score_GPT41_0, score_GPT41_1 = np.load('results/41_law_strategy_scores_0_GPT.npy'), np.load('results/41_law_strategy_scores_1_GPT.npy')\n",
    "\n",
    "print(\"-------theoretic results-------\")\n",
    "increase_0 = score_theoratic_0.mean() - score_original_0.mean()\n",
    "increase_1 = score_theoratic_1.mean() - score_original_1.mean()\n",
    "print(\"group 0 increase:\", increase_0)\n",
    "print(\"group 1 increase:\", increase_1)\n",
    "print(\"disparity between 0 and 1\", increase_0 - increase_1)\n",
    "\n",
    "print(\"-------GPT results-------\")\n",
    "increase_0 = score_GPT_0.mean() - score_original_0.mean()\n",
    "increase_1 = score_GPT_1.mean() - score_original_1.mean()\n",
    "print(\"group 0 increase:\", increase_0)\n",
    "print(\"group 1 increase:\", increase_1)\n",
    "print(\"disparity between 0 and 1\", increase_0 - increase_1)\n",
    "\n",
    "print(\"-------GPT41 results-------\")\n",
    "increase_0 = score_GPT41_0.mean() - score_original_0.mean()\n",
    "increase_1 = score_GPT41_1.mean() - score_original_1.mean()\n",
    "print(\"group 0 increase:\", increase_0)\n",
    "print(\"group 1 increase:\", increase_1)\n",
    "print(\"disparity between 0 and 1\", increase_0 - increase_1)"
   ]
  },
  {
   "cell_type": "code",
   "execution_count": null,
   "metadata": {},
   "outputs": [],
   "source": [
    "score_theoratic_0, score_GPT_0, score_original_0 = np.load('results/law_improve_scores_0.npy'), np.load('results/4o_law_improve_scores_0_GPT.npy'), np.load('results/law_original_scores_0.npy')\n",
    "score_theoratic_1, score_GPT_1, score_original_1 = np.load('results/law_improve_scores_1.npy'), np.load('results/4o_law_improve_scores_1_GPT.npy'), np.load('results/law_original_scores_1.npy')\n",
    "score_GPT41_0, score_GPT41_1 = np.load('results/41_law_improve_scores_0_GPT.npy'), np.load('results/41_law_improve_scores_1_GPT.npy')\n",
    "\n",
    "\n",
    "print(\"-------theoretic results-------\")\n",
    "increase_0 = score_theoratic_0.mean() - score_original_0.mean()\n",
    "increase_1 = score_theoratic_1.mean() - score_original_1.mean()\n",
    "print(\"group 0 increase:\", increase_0)\n",
    "print(\"group 1 increase:\", increase_1)\n",
    "print(\"disparity between 0 and 1\", increase_0 - increase_1)\n",
    "\n",
    "print(\"-------GPT results-------\")\n",
    "increase_0 = score_GPT_0.mean() - score_original_0.mean()\n",
    "increase_1 = score_GPT_1.mean() - score_original_1.mean()\n",
    "print(\"group 0 increase:\", increase_0)\n",
    "print(\"group 1 increase:\", increase_1)\n",
    "print(\"disparity between 0 and 1\", increase_0 - increase_1)\n",
    "\n",
    "print(\"-------GPT41 results-------\")\n",
    "increase_0 = score_GPT41_0.mean() - score_original_0.mean()\n",
    "increase_1 = score_GPT41_1.mean() - score_original_1.mean()\n",
    "print(\"group 0 increase:\", increase_0)\n",
    "print(\"group 1 increase:\", increase_1)\n",
    "print(\"disparity between 0 and 1\", increase_0 - increase_1)"
   ]
  },
  {
   "cell_type": "code",
   "execution_count": null,
   "metadata": {},
   "outputs": [],
   "source": [
    "score_theoratic_0, score_GPT_0, score_original_0 = np.load('results/f_MLPLR_law_improve_qualifications_0.npy'), np.load('results/f_MLPLR_4o_law_improve_qualifications_0_GPT.npy'), np.load('results/f_MLPLR_law_original_qualifications_0.npy')\n",
    "score_theoratic_1, score_GPT_1, score_original_1 = np.load('results/f_MLPLR_law_improve_qualifications_1.npy'), np.load('results/f_MLPLR_4o_law_improve_qualifications_1_GPT.npy'), np.load('results/f_MLPLR_law_original_qualifications_1.npy')\n",
    "score_GPT41_0, score_GPT41_1 = np.load('results/f_MLPLR_41_law_improve_qualifications_0_GPT.npy'), np.load('results/f_MLPLR_41_law_improve_qualifications_1_GPT.npy')\n",
    "\n",
    "print(\"-------theoretic results-------\")\n",
    "increase_0 = score_theoratic_0.mean() - score_original_0.mean()\n",
    "increase_1 = score_theoratic_1.mean() - score_original_1.mean()\n",
    "print(\"group 0 increase:\", increase_0)\n",
    "print(\"group 1 increase:\", increase_1)\n",
    "print(\"disparity between 0 and 1\", increase_0 - increase_1)\n",
    "\n",
    "print(\"-------GPT results-------\")\n",
    "increase_0 = score_GPT_0.mean() - score_original_0.mean()\n",
    "increase_1 = score_GPT_1.mean() - score_original_1.mean()\n",
    "print(\"group 0 increase:\", increase_0)\n",
    "print(\"group 1 increase:\", increase_1)\n",
    "print(\"disparity between 0 and 1\", increase_0 - increase_1)\n",
    "\n",
    "print(\"-------GPT41 results-------\")\n",
    "increase_0 = score_GPT41_0.mean() - score_original_0.mean()\n",
    "increase_1 = score_GPT41_1.mean() - score_original_1.mean()\n",
    "print(\"group 0 increase:\", increase_0)\n",
    "print(\"group 1 increase:\", increase_1)\n",
    "print(\"disparity between 0 and 1\", increase_0 - increase_1)"
   ]
  },
  {
   "cell_type": "markdown",
   "metadata": {},
   "source": [
    "### Loan approval"
   ]
  },
  {
   "cell_type": "markdown",
   "metadata": {},
   "source": [
    "- score"
   ]
  },
  {
   "cell_type": "code",
   "execution_count": null,
   "metadata": {},
   "outputs": [],
   "source": [
    "score_theoratic_0, score_GPT_0, score_original_0 = np.load('results/credit_strategy_scores_0.npy'), np.load('results/4o_credit_strategy_scores_0_GPT.npy'), np.load('results/credit_original_scores_0.npy')\n",
    "score_theoratic_1, score_GPT_1, score_original_1 = np.load('results/credit_strategy_scores_1.npy'), np.load('results/4o_credit_strategy_scores_1_GPT.npy'), np.load('results/credit_original_scores_1.npy')\n",
    "\n",
    "\n",
    "score_GPT41_0, score_GPT41_1 = np.load('results/41_credit_strategy_scores_0_GPT.npy'), np.load('results/41_credit_strategy_scores_1_GPT.npy')\n",
    "\n",
    "print(\"-------theoretic results-------\")\n",
    "increase_0 = score_theoratic_0.mean() - score_original_0.mean()\n",
    "increase_1 = score_theoratic_1.mean() - score_original_1.mean()\n",
    "print(\"group 0 increase:\", increase_0)\n",
    "print(\"group 1 increase:\", increase_1)\n",
    "print(\"disparity between 0 and 1\", increase_0 - increase_1)\n",
    "\n",
    "print(\"-------GPT results-------\")\n",
    "increase_0 = score_GPT_0.mean() - score_original_0.mean()\n",
    "increase_1 = score_GPT_1.mean() - score_original_1.mean()\n",
    "print(\"group 0 increase:\", increase_0)\n",
    "print(\"group 1 increase:\", increase_1)\n",
    "print(\"disparity between 0 and 1\", increase_0 - increase_1)\n",
    "\n",
    "print(\"-------GPT41 results-------\")\n",
    "increase_0 = score_GPT41_0.mean() - score_original_0.mean()\n",
    "increase_1 = score_GPT41_1.mean() - score_original_1.mean()\n",
    "print(\"group 0 increase:\", increase_0)\n",
    "print(\"group 1 increase:\", increase_1)\n",
    "print(\"disparity between 0 and 1\", increase_0 - increase_1)"
   ]
  },
  {
   "cell_type": "markdown",
   "metadata": {},
   "source": [
    "- improvement scenario 1"
   ]
  },
  {
   "cell_type": "code",
   "execution_count": null,
   "metadata": {},
   "outputs": [],
   "source": [
    "score_theoratic_0, score_GPT_0, score_original_0 = np.load('results/credit_improve_scores_0.npy'), np.load('results/4o_credit_improve_scores_0_GPT.npy'), np.load('results/credit_original_scores_0.npy')\n",
    "score_theoratic_1, score_GPT_1, score_original_1 = np.load('results/credit_improve_scores_1.npy'), np.load('results/4o_credit_improve_scores_1_GPT.npy'), np.load('results/credit_original_scores_1.npy')\n",
    "\n",
    "score_GPT41_0, score_GPT41_1 = np.load('results/41_credit_improve_scores_0_GPT.npy'), np.load('results/41_credit_improve_scores_1_GPT.npy')\n",
    "\n",
    "print(\"-------theoretic results-------\")\n",
    "increase_0 = score_theoratic_0.mean() - score_original_0.mean()\n",
    "increase_1 = score_theoratic_1.mean() - score_original_1.mean()\n",
    "print(\"group 0 increase:\", increase_0)\n",
    "print(\"group 1 increase:\", increase_1)\n",
    "print(\"disparity between 0 and 1\", increase_0 - increase_1)\n",
    "\n",
    "print(\"-------GPT results-------\")\n",
    "increase_0 = score_GPT_0.mean() - score_original_0.mean()\n",
    "increase_1 = score_GPT_1.mean() - score_original_1.mean()\n",
    "print(\"group 0 increase:\", increase_0)\n",
    "print(\"group 1 increase:\", increase_1)\n",
    "print(\"disparity between 0 and 1\", increase_0 - increase_1)\n",
    "\n",
    "print(\"-------GPT41 results-------\")\n",
    "increase_0 = score_GPT41_0.mean() - score_original_0.mean()\n",
    "increase_1 = score_GPT41_1.mean() - score_original_1.mean()\n",
    "print(\"group 0 increase:\", increase_0)\n",
    "print(\"group 1 increase:\", increase_1)\n",
    "print(\"disparity between 0 and 1\", increase_0 - increase_1)"
   ]
  },
  {
   "cell_type": "markdown",
   "metadata": {},
   "source": [
    "- Improvement scenario 2"
   ]
  },
  {
   "cell_type": "code",
   "execution_count": null,
   "metadata": {},
   "outputs": [],
   "source": [
    "score_theoratic_0, score_GPT_0, score_original_0 = np.load('results/f_MLPLR_credit_improve_qualifications_0.npy'), np.load('results/f_MLPLR_4o_credit_improve_qualifications_0_GPT.npy'), np.load('results/f_MLPLR_credit_original_qualifications_0.npy')\n",
    "score_theoratic_1, score_GPT_1, score_original_1 = np.load('results/f_MLPLR_credit_improve_qualifications_1.npy'), np.load('results/f_MLPLR_4o_credit_improve_qualifications_1_GPT.npy'), np.load('results/f_MLPLR_credit_original_qualifications_1.npy')\n",
    "\n",
    "score_GPT41_0, score_GPT41_1 = np.load('results/f_MLPLR_41_credit_improve_qualifications_0_GPT.npy'), np.load('results/f_MLPLR_41_credit_improve_qualifications_1_GPT.npy')\n",
    "print(\"-------theoretic results-------\")\n",
    "increase_0 = score_theoratic_0.mean() - score_original_0.mean()\n",
    "increase_1 = score_theoratic_1.mean() - score_original_1.mean()\n",
    "print(\"group 0 increase:\", increase_0)\n",
    "print(\"group 1 increase:\", increase_1)\n",
    "print(\"disparity between 0 and 1\", increase_0 - increase_1)\n",
    "\n",
    "print(\"-------GPT results-------\")\n",
    "increase_0 = score_GPT_0.mean() - score_original_0.mean()\n",
    "increase_1 = score_GPT_1.mean() - score_original_1.mean()\n",
    "print(\"group 0 increase:\", increase_0)\n",
    "print(\"group 1 increase:\", increase_1)\n",
    "print(\"disparity between 0 and 1\", increase_0 - increase_1)\n",
    "\n",
    "print(\"-------GPT41 results-------\")\n",
    "increase_0 = score_GPT41_0.mean() - score_original_0.mean()\n",
    "increase_1 = score_GPT41_1.mean() - score_original_1.mean()\n",
    "print(\"group 0 increase:\", increase_0)\n",
    "print(\"group 1 increase:\", increase_1)\n",
    "print(\"disparity between 0 and 1\", increase_0 - increase_1)"
   ]
  },
  {
   "cell_type": "markdown",
   "metadata": {},
   "source": [
    "### PAP"
   ]
  },
  {
   "cell_type": "markdown",
   "metadata": {},
   "source": [
    "- Score distribution"
   ]
  },
  {
   "cell_type": "code",
   "execution_count": null,
   "metadata": {},
   "outputs": [],
   "source": [
    "score_theoratic_0, score_GPT_0, score_original_0 = np.load('results/pap_strategy_scores_0.npy'), np.load('results/4o_PAP_strategy_scores_0_GPT.npy'), np.load('results/pap_original_scores_0.npy')\n",
    "score_theoratic_1, score_GPT_1, score_original_1 = np.load('results/pap_strategy_scores_1.npy'), np.load('results/4o_PAP_strategy_scores_1_GPT.npy'), np.load('results/pap_original_scores_1.npy')\n",
    "score_GPT41_0, score_GPT41_1 = np.load('results/41_PAP_strategy_scores_0_GPT.npy'), np.load('results/41_PAP_strategy_scores_1_GPT.npy')\n",
    "\n",
    "print(\"-------theoretic results-------\")\n",
    "increase_0 = score_theoratic_0.mean() - score_original_0.mean()\n",
    "increase_1 = score_theoratic_1.mean() - score_original_1.mean()\n",
    "print(\"group 0 increase:\", increase_0)\n",
    "print(\"group 1 increase:\", increase_1)\n",
    "print(\"disparity between 0 and 1\", increase_0 - increase_1)\n",
    "\n",
    "print(\"-------GPT results-------\")\n",
    "increase_0 = score_GPT_0.mean() - score_original_0.mean()\n",
    "increase_1 = score_GPT_1.mean() - score_original_1.mean()\n",
    "print(\"group 0 increase:\", increase_0)\n",
    "print(\"group 1 increase:\", increase_1)\n",
    "print(\"disparity between 0 and 1\", increase_0 - increase_1)\n",
    "\n",
    "print(\"-------GPT41 results-------\")\n",
    "increase_0 = score_GPT41_0.mean() - score_original_0.mean()\n",
    "increase_1 = score_GPT41_1.mean() - score_original_1.mean()\n",
    "print(\"group 0 increase:\", increase_0)\n",
    "print(\"group 1 increase:\", increase_1)\n",
    "print(\"disparity between 0 and 1\", increase_0 - increase_1)"
   ]
  },
  {
   "cell_type": "markdown",
   "metadata": {},
   "source": [
    "- Improvement scenario 1"
   ]
  },
  {
   "cell_type": "code",
   "execution_count": null,
   "metadata": {},
   "outputs": [],
   "source": [
    "score_theoratic_0, score_GPT_0, score_original_0 = np.load('results/pap_improve_scores_0.npy'), np.load('results/4o_PAP_improve_scores_0_GPT.npy'), np.load('results/pap_original_scores_0.npy')\n",
    "score_theoratic_1, score_GPT_1, score_original_1 = np.load('results/pap_improve_scores_1.npy'), np.load('results/4o_PAP_improve_scores_1_GPT.npy'), np.load('results/pap_original_scores_1.npy')\n",
    "\n",
    "score_GPT41_0, score_GPT41_1 = np.load('results/41_PAP_improve_scores_0_GPT.npy'), np.load('results/41_PAP_improve_scores_1_GPT.npy')\n",
    "\n",
    "\n",
    "print(\"-------theoretic results-------\")\n",
    "increase_0 = score_theoratic_0.mean() - score_original_0.mean()\n",
    "increase_1 = score_theoratic_1.mean() - score_original_1.mean()\n",
    "print(\"group 0 increase:\", increase_0)\n",
    "print(\"group 1 increase:\", increase_1)\n",
    "print(\"disparity between 0 and 1\", increase_0 - increase_1)\n",
    "\n",
    "print(\"-------GPT results-------\")\n",
    "increase_0 = score_GPT_0.mean() - score_original_0.mean()\n",
    "increase_1 = score_GPT_1.mean() - score_original_1.mean()\n",
    "print(\"group 0 increase:\", increase_0)\n",
    "print(\"group 1 increase:\", increase_1)\n",
    "print(\"disparity between 0 and 1\", increase_0 - increase_1)\n",
    "\n",
    "print(\"-------GPT41 results-------\")\n",
    "increase_0 = score_GPT41_0.mean() - score_original_0.mean()\n",
    "increase_1 = score_GPT41_1.mean() - score_original_1.mean()\n",
    "print(\"group 0 increase:\", increase_0)\n",
    "print(\"group 1 increase:\", increase_1)\n",
    "print(\"disparity between 0 and 1\", increase_0 - increase_1)"
   ]
  },
  {
   "cell_type": "markdown",
   "metadata": {},
   "source": [
    "- Improvement scenario 2"
   ]
  },
  {
   "cell_type": "code",
   "execution_count": null,
   "metadata": {},
   "outputs": [],
   "source": [
    "score_theoratic_0, score_GPT_0, score_original_0 = np.load('results/f_MLPLR_pap_improve_qualifications_0.npy'), np.load('results/f_MLPLR_4o_PAP_improve_qualifications_0_GPT.npy'), np.load('results/f_MLPLR_pap_original_qualifications_0.npy')\n",
    "score_theoratic_1, score_GPT_1, score_original_1 = np.load('results/f_MLPLR_pap_improve_qualifications_1.npy'), np.load('results/f_MLPLR_4o_PAP_improve_qualifications_1_GPT.npy'), np.load('results/f_MLPLR_pap_original_qualifications_1.npy')\n",
    "\n",
    "score_GPT41_0, score_GPT41_1 = np.load('results/f_MLPLR_41_PAP_improve_qualifications_0_GPT.npy'), np.load('results/f_MLPLR_41_PAP_improve_qualifications_1_GPT.npy')\n",
    "\n",
    "\n",
    "print(\"-------theoretic results-------\")\n",
    "increase_0 = score_theoratic_0.mean() - score_original_0.mean()\n",
    "increase_1 = score_theoratic_1.mean() - score_original_1.mean()\n",
    "print(\"group 0 increase:\", increase_0)\n",
    "print(\"group 1 increase:\", increase_1)\n",
    "print(\"disparity between 0 and 1\", increase_0 - increase_1)\n",
    "\n",
    "print(\"-------GPT results-------\")\n",
    "increase_0 = score_GPT_0.mean() - score_original_0.mean()\n",
    "increase_1 = score_GPT_1.mean() - score_original_1.mean()\n",
    "print(\"group 0 increase:\", increase_0)\n",
    "print(\"group 1 increase:\", increase_1)\n",
    "print(\"disparity between 0 and 1\", increase_0 - increase_1)\n",
    "\n",
    "\n",
    "print(\"-------GPT41 results-------\")\n",
    "increase_0 = score_GPT41_0.mean() - score_original_0.mean()\n",
    "increase_1 = score_GPT41_1.mean() - score_original_1.mean()\n",
    "print(\"group 0 increase:\", increase_0)\n",
    "print(\"group 1 increase:\", increase_1)\n",
    "print(\"disparity between 0 and 1\", increase_0 - increase_1)\n"
   ]
  }
 ],
 "metadata": {
  "kernelspec": {
   "display_name": "base",
   "language": "python",
   "name": "python3"
  },
  "language_info": {
   "codemirror_mode": {
    "name": "ipython",
    "version": 3
   },
   "file_extension": ".py",
   "mimetype": "text/x-python",
   "name": "python",
   "nbconvert_exporter": "python",
   "pygments_lexer": "ipython3",
   "version": "3.11.4"
  }
 },
 "nbformat": 4,
 "nbformat_minor": 2
}
