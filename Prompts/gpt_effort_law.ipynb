{
 "cells": [
  {
   "cell_type": "code",
   "execution_count": null,
   "id": "22198a7a",
   "metadata": {},
   "outputs": [],
   "source": [
    "os.getenv(\"OPENAI_API_KEY\")"
   ]
  },
  {
   "cell_type": "markdown",
   "id": "cb6f73a1",
   "metadata": {},
   "source": [
    "### Data preparatiaon"
   ]
  },
  {
   "cell_type": "code",
   "execution_count": null,
   "id": "a47163da",
   "metadata": {},
   "outputs": [],
   "source": [
    "system_prompt = \"\"\"\n",
    "You are a education advisor guiding users to change their personal profiles to be admitted by law schools. Users will provide their current academic profiles as a dictionary of features and their values. Based on these features, Your task is to recommend the optimal effort allocation strategies that will improve the probability of the user getting admitted.\n",
    "\n",
    "### Requirement of your recommendation strategies\n",
    "\n",
    "1. Your recommendation strategy must be based on the unique user's provided features and your knowledge and reasoning to help them get admitted.\n",
    "\n",
    "1. Your recommendation strategy must be a JSON dictionary containing up to two strategies for\n",
    "affecting their features \"UGPA\" (undergrad GPA), \"LSAT\" (LSAT score).\n",
    "\n",
    "2. Strategies include a Direction (\"increase\" or \"decrease\"), and Effort (the amount of effort going to changing that feature in the given Direction). Do not use any direction other than increase or decrease.\n",
    "\n",
    "3. Effort is valid as long as it is a non-negative number. Although there is no effort budeget, for each unit of effort, the user will pay a cost of the square of this effort divided by 2 (e.g., 0.5 effort will incur 0.5^2/2 = 0.125 cost). While the reward of the user will be the amount of probability improvement (maximum reward is 1 since the largest possible probability is 1) to get admitted after changing their profiles following your strategy. You must consider whether the cost is worthwhile compared to the reward.\n",
    "\n",
    "### Mandatory output schema\n",
    "\n",
    "Your output must have the following JSON schema **without** any additional explanation:\n",
    "\n",
    "{\n",
    "    \"UGPA\": {\n",
    "        \"Direction\": \"increase\" or \"decrease\" or \"N/A\" if \"Effort\" is 0,\n",
    "        \"Effort\": \"the amount of effort allocated to this feature\"\n",
    "    },\n",
    "    \"YearsCode\": {\n",
    "        \"LSAT\": \"increase\" or \"decrease\" or \"N/A\" if \"Effort\" is 0,\n",
    "        \"Effort\": \"the amount of effort allocated to this feature\"\n",
    "    },\n",
    "}\n",
    "\n",
    "Note that you are allowed to allocate 0 effort to some feature. But when effort is 0, the \"Direction\" must be \"N/A\".\n",
    "\"\"\""
   ]
  },
  {
   "cell_type": "code",
   "execution_count": null,
   "id": "5de63a0a",
   "metadata": {},
   "outputs": [],
   "source": [
    "import pandas as pd\n",
    "df = pd.read_csv(\"../data/bar_pass_data_sample.csv\")"
   ]
  },
  {
   "cell_type": "code",
   "execution_count": null,
   "id": "3a334637",
   "metadata": {},
   "outputs": [],
   "source": [
    "import numpy as np\n",
    "df['sex'] = np.where(df['sex']==2, 'female','male')\n",
    "df"
   ]
  },
  {
   "cell_type": "code",
   "execution_count": null,
   "id": "5cf4c54c",
   "metadata": {},
   "outputs": [],
   "source": [
    "def parse_row_to_question(row):\n",
    "    all_names = ['ugpa','lsat']\n",
    "    question = f\"User's education profile: \"\n",
    "    for name in all_names:\n",
    "        question += f\"{name}={row[name]}, \"\n",
    "    question = question[:-2] + \".\"\n",
    "    return question\n",
    "\n",
    "parse_row_to_question(df.iloc[0])"
   ]
  },
  {
   "cell_type": "markdown",
   "id": "d1e0ba2e",
   "metadata": {},
   "source": [
    "### Test"
   ]
  },
  {
   "cell_type": "code",
   "execution_count": null,
   "id": "c0a7a953",
   "metadata": {},
   "outputs": [],
   "source": [
    "from openai import OpenAI\n",
    "\n",
    "client = OpenAI(api_key=os.getenv(\"OPENAI_API_KEY\"))\n",
    "\n",
    "response = client.chat.completions.create(\n",
    "    model=\"gpt-4.1-2025-04-14\",\n",
    "    messages=[\n",
    "        {\"role\":\"system\",\"content\":system_prompt},\n",
    "        {\"role\": \"user\", \"content\": \"User profile:\"+parse_row_to_question(df.iloc[0])}\n",
    "    ],\n",
    "    response_format={\"type\": \"json_object\"},\n",
    "    temperature=0,\n",
    ")\n",
    "\n",
    "print(response.choices[0].message.content)"
   ]
  },
  {
   "cell_type": "markdown",
   "id": "8bdb59cb",
   "metadata": {},
   "source": [
    "### make batch prediction file"
   ]
  },
  {
   "cell_type": "code",
   "execution_count": null,
   "id": "d382062d",
   "metadata": {},
   "outputs": [],
   "source": [
    "request_list = []\n",
    "for i in range(1000):\n",
    "    cur = {\"custom_id\": f\"{i}\",\"method\": \"POST\", \"url\": \"/v1/chat/completions\", \"body\": {\"model\": \"gpt-4.1-2025-04-14\", \"messages\": [{\"role\":\"system\",\"content\":system_prompt}, {\"role\": \"user\", \"content\": \"User profile:\"+parse_row_to_question(df.iloc[i])}], \"response_format\": {\"type\": \"json_object\"}, \"temperature\": 0}}\n",
    "    request_list.append(cur)"
   ]
  },
  {
   "cell_type": "code",
   "execution_count": null,
   "id": "02367169",
   "metadata": {},
   "outputs": [],
   "source": [
    "# create jsonl\n",
    "import json\n",
    "with open(\"law_requests_41.jsonl\", \"w\") as f:\n",
    "    for request in request_list:\n",
    "        f.write(json.dumps(request) + \"\\n\")\n"
   ]
  },
  {
   "cell_type": "markdown",
   "id": "bdf4a162",
   "metadata": {},
   "source": [
    "### batch prediction"
   ]
  },
  {
   "cell_type": "code",
   "execution_count": null,
   "id": "3d78bde6",
   "metadata": {},
   "outputs": [],
   "source": [
    "batch_input_file = client.files.create(\n",
    "    file=open(\"law_requests_41.jsonl\", \"rb\"),\n",
    "    purpose=\"batch\"\n",
    ")\n",
    "\n",
    "print(batch_input_file)"
   ]
  },
  {
   "cell_type": "code",
   "execution_count": null,
   "id": "cb9494ad",
   "metadata": {},
   "outputs": [],
   "source": [
    "batch_input_file_id = batch_input_file.id\n",
    "client.batches.create(\n",
    "    input_file_id=batch_input_file_id,\n",
    "    endpoint=\"/v1/chat/completions\",\n",
    "    completion_window=\"24h\",\n",
    "    metadata={\n",
    "        \"description\": \"Law dataset job 41\"\n",
    "    }\n",
    ")"
   ]
  },
  {
   "cell_type": "code",
   "execution_count": null,
   "id": "1d1ad988",
   "metadata": {},
   "outputs": [],
   "source": [
    "from openai import OpenAI\n",
    "client = OpenAI(api_key=os.getenv(\"OPENAI_API_KEY\"))\n",
    "# Check the status of the batch job\n",
    "batch = client.batches.retrieve(\"batch_67fd7538e2d0819080589f85e37196e2\")\n",
    "print(batch)"
   ]
  },
  {
   "cell_type": "code",
   "execution_count": null,
   "id": "ae6a5e77",
   "metadata": {},
   "outputs": [],
   "source": [
    "file_response = client.files.content(\"file-DMJcD79vX5KmR7j64UFpAm\")\n",
    "# write to json\n",
    "with open(\"law_responses_41.jsonl\", \"w\") as f:\n",
    "    f.write(file_response.text)"
   ]
  },
  {
   "cell_type": "markdown",
   "id": "8f4a5196",
   "metadata": {},
   "source": [
    "### Parsing JSONL to JSON using ids"
   ]
  },
  {
   "cell_type": "code",
   "execution_count": null,
   "id": "50a08651",
   "metadata": {},
   "outputs": [],
   "source": [
    "import json\n",
    "responses = []\n",
    "for i in range(1000):\n",
    "    with open(\"law_responses_41.jsonl\", \"r\") as f:\n",
    "        for line in f:\n",
    "            response = json.loads(line)\n",
    "            if response[\"custom_id\"] == str(i):\n",
    "                responses.append(response['response']['body']['choices'][0]['message']['content'])"
   ]
  },
  {
   "cell_type": "code",
   "execution_count": null,
   "id": "39948f68",
   "metadata": {},
   "outputs": [],
   "source": [
    "# convert each response to a dictionary\n",
    "import ast\n",
    "responses_dict = []\n",
    "for response in responses:\n",
    "    response_dict = ast.literal_eval(response)\n",
    "    responses_dict.append(response_dict)\n"
   ]
  },
  {
   "cell_type": "code",
   "execution_count": null,
   "id": "b138c15f",
   "metadata": {},
   "outputs": [],
   "source": [
    "# convert response_dict to json\n",
    "with open(\"41_law_valid.json\", \"w\") as f:\n",
    "    json.dump(responses_dict, f, indent=4)"
   ]
  }
 ],
 "metadata": {
  "kernelspec": {
   "display_name": "base",
   "language": "python",
   "name": "python3"
  },
  "language_info": {
   "codemirror_mode": {
    "name": "ipython",
    "version": 3
   },
   "file_extension": ".py",
   "mimetype": "text/x-python",
   "name": "python",
   "nbconvert_exporter": "python",
   "pygments_lexer": "ipython3",
   "version": "3.11.4"
  }
 },
 "nbformat": 4,
 "nbformat_minor": 5
}
