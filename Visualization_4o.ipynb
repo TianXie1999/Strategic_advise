{
 "cells": [
  {
   "cell_type": "code",
   "execution_count": null,
   "metadata": {},
   "outputs": [],
   "source": [
    "from visualize import *"
   ]
  },
  {
   "cell_type": "code",
   "execution_count": null,
   "metadata": {},
   "outputs": [],
   "source": [
    "effort_theoratic.mean(axis=0)"
   ]
  },
  {
   "cell_type": "markdown",
   "metadata": {},
   "source": [
    "### Hiring"
   ]
  },
  {
   "cell_type": "code",
   "execution_count": null,
   "metadata": {},
   "outputs": [],
   "source": [
    "# read npy file\n",
    "effort_theoratic, effort_GPT = np.load('results/hiring_efforts.npy'), np.load('results/4o_hiring_efforts_GPT.npy')\n",
    "effort_theoratic = effort_theoratic[:,[0,2,3,1]] \n",
    "feature_list = ['Education','ComputerSkills','PreviousSalary','YearsCode']\n",
    "\n",
    "# get the logistic efforts\n",
    "logistic_efforts = np.mean(effort_theoratic, axis=0)\n",
    "\n",
    "plot_efforts(logistic_efforts, effort_GPT, feature_list,2,2,\"4ohiring\",(7,5))"
   ]
  },
  {
   "cell_type": "code",
   "execution_count": null,
   "metadata": {},
   "outputs": [],
   "source": [
    "# read the score file\n",
    "score_theoratic, score_GPT, score_original = np.load('results/hiring_strategy_scores.npy'), np.load('results/4o_hiring_strategy_scores_GPT.npy'), np.load('results/hiring_original_scores.npy')\n",
    "prefix = \"4ohiring_strategy\"\n",
    "plot_scores(score_theoratic, score_GPT, score_original, prefix)\n",
    "\n",
    "print(f\"original mean score: {np.mean(score_original)}\")\n",
    "print(f\"theoratic mean score: {np.mean(score_theoratic)}\")\n",
    "print(f\"GPT mean score: {np.mean(score_GPT)}\")"
   ]
  },
  {
   "cell_type": "code",
   "execution_count": null,
   "metadata": {},
   "outputs": [],
   "source": [
    "# read the score file\n",
    "score_theoratic, score_GPT, score_original = np.load('results/hiring_improve_scores.npy'), np.load('results/4o_hiring_improve_scores_GPT.npy'), np.load('results/hiring_original_scores.npy')\n",
    "prefix = \"4ohiring_qualification\"\n",
    "plot_scores(score_theoratic, score_GPT, score_original, prefix)\n",
    "\n",
    "print(f\"original mean score: {np.mean(score_original)}\")\n",
    "print(f\"theoratic mean score: {np.mean(score_theoratic)}\")\n",
    "print(f\"GPT mean score: {np.mean(score_GPT)}\")"
   ]
  },
  {
   "cell_type": "markdown",
   "metadata": {},
   "source": [
    "### Law"
   ]
  },
  {
   "cell_type": "code",
   "execution_count": null,
   "metadata": {},
   "outputs": [],
   "source": [
    "# read npy file\n",
    "effort_theoratic, effort_GPT = np.load('results/law_efforts.npy'), np.load('results/4o_law_efforts_GPT.npy') \n",
    "feature_list = ['UGPA', 'LSAT']\n",
    "\n",
    "# get the logistic efforts\n",
    "logistic_efforts = np.mean(effort_theoratic, axis=0)\n",
    "\n",
    "plot_efforts(logistic_efforts, effort_GPT, feature_list,2,1,\"4olaw\",(7,2.5))"
   ]
  },
  {
   "cell_type": "code",
   "execution_count": null,
   "metadata": {},
   "outputs": [],
   "source": [
    "# read the score file\n",
    "score_theoratic, score_GPT, score_original = np.load('results/law_strategy_scores.npy'), np.load('results/4o_law_strategy_scores_GPT.npy'), np.load('results/law_original_scores.npy')\n",
    "prefix = \"4olaw_strategy\"\n",
    "plot_scores(score_theoratic, score_GPT, score_original, prefix)\n",
    "\n",
    "print(f\"original mean score: {np.mean(score_original)}\")\n",
    "print(f\"theoratic mean score: {np.mean(score_theoratic)}\")\n",
    "print(f\"GPT mean score: {np.mean(score_GPT)}\")"
   ]
  },
  {
   "cell_type": "code",
   "execution_count": null,
   "metadata": {},
   "outputs": [],
   "source": [
    "# read the score file\n",
    "score_theoratic, score_GPT, score_original = np.load('results/law_improve_scores.npy'), np.load('results/4o_law_improve_scores_GPT.npy'), np.load('results/law_original_scores.npy')\n",
    "prefix = \"4olaw_qualification\"\n",
    "plot_scores(score_theoratic, score_GPT, score_original, prefix)\n",
    "\n",
    "print(f\"original mean score: {np.mean(score_original)}\")\n",
    "print(f\"theoratic mean score: {np.mean(score_theoratic)}\")\n",
    "print(f\"GPT mean score: {np.mean(score_GPT)}\")"
   ]
  },
  {
   "cell_type": "markdown",
   "metadata": {},
   "source": [
    "### Credit"
   ]
  },
  {
   "cell_type": "code",
   "execution_count": null,
   "metadata": {},
   "outputs": [],
   "source": [
    "# read npy file\n",
    "effort_theoratic, effort_GPT = np.load('results/credit_efforts.npy'), np.load('results/4o_credit_efforts_GPT.npy') \n",
    "feature_list = ['Debt Ratio', 'Monthly Income', 'RevolvingUtilizationOfUnsecuredLines', 'NumberOfOpenCreditLinesAndLoans', 'NumberRealEstateLoansOrLines']\n",
    "\n",
    "# get the logistic efforts\n",
    "logistic_efforts = np.mean(effort_theoratic, axis=0)\n",
    "\n",
    "plot_efforts(logistic_efforts, effort_GPT, feature_list,3,2,\"4ocredit\",(11,5))"
   ]
  },
  {
   "cell_type": "code",
   "execution_count": null,
   "metadata": {},
   "outputs": [],
   "source": [
    "# read the score file\n",
    "score_theoratic, score_GPT, score_original = np.load('results/credit_strategy_scores.npy'), np.load('results/4o_credit_strategy_scores_GPT.npy'), np.load('results/credit_original_scores.npy')\n",
    "prefix = \"4ocredit_strategy\"\n",
    "\n",
    "plot_scores(score_theoratic, score_GPT, score_original, prefix)\n",
    "\n",
    "print(f\"original mean score: {np.mean(score_original)}\")\n",
    "print(f\"theoratic mean score: {np.mean(score_theoratic)}\")\n",
    "print(f\"GPT mean score: {np.mean(score_GPT)}\")"
   ]
  },
  {
   "cell_type": "code",
   "execution_count": null,
   "metadata": {},
   "outputs": [],
   "source": [
    "# read the score file\n",
    "score_theoratic, score_GPT, score_original = np.load('results/credit_improve_scores.npy'), np.load('results/4o_credit_improve_scores_GPT.npy'), np.load('results/credit_improve_scores.npy')\n",
    "prefix = \"4ocredit_qualification\"\n",
    "\n",
    "plot_scores(score_theoratic, score_GPT, score_original, prefix)\n",
    "\n",
    "print(f\"original mean score: {np.mean(score_original)}\")\n",
    "print(f\"theoratic mean score: {np.mean(score_theoratic)}\")\n",
    "print(f\"GPT mean score: {np.mean(score_GPT)}\")"
   ]
  },
  {
   "cell_type": "markdown",
   "metadata": {},
   "source": [
    "### ACSIncome"
   ]
  },
  {
   "cell_type": "code",
   "execution_count": null,
   "metadata": {},
   "outputs": [],
   "source": [
    "# read npy file\n",
    "effort_theoratic, effort_GPT = np.load('results/income_efforts.npy'), np.load('results/4o_income_efforts_GPT.npy') \n",
    "feature_list = ['SCHL', 'WKHP']\n",
    "\n",
    "# get the logistic efforts\n",
    "logistic_efforts = np.mean(effort_theoratic, axis=0)\n",
    "\n",
    "plot_efforts(logistic_efforts, effort_GPT, feature_list, 2,1,\"4oincome\",(7,2.5))"
   ]
  },
  {
   "cell_type": "code",
   "execution_count": null,
   "metadata": {},
   "outputs": [],
   "source": [
    "# read the score file\n",
    "score_theoratic, score_GPT, score_original = np.load('results/income_strategy_scores.npy'), np.load('results/4o_income_strategy_scores_GPT.npy'), np.load('results/income_original_scores.npy')\n",
    "prefix = \"4oincome_strategy\"\n",
    "\n",
    "plot_scores(score_theoratic, score_GPT, score_original, prefix)\n",
    "\n",
    "print(f\"original mean score: {np.mean(score_original)}\")\n",
    "print(f\"theoratic mean score: {np.mean(score_theoratic)}\")\n",
    "print(f\"GPT mean score: {np.mean(score_GPT)}\")"
   ]
  },
  {
   "cell_type": "code",
   "execution_count": null,
   "metadata": {},
   "outputs": [],
   "source": [
    "# read the score file\n",
    "score_theoratic, score_GPT, score_original = np.load('results/income_improve_scores.npy'), np.load('results/4o_income_improve_scores_GPT.npy'), np.load('results/income_original_scores.npy')\n",
    "prefix = \"4oincome_qualification\"\n",
    "\n",
    "plot_scores(score_theoratic, score_GPT, score_original, prefix)\n",
    "\n",
    "print(f\"original mean score: {np.mean(score_original)}\")\n",
    "print(f\"theoratic mean score: {np.mean(score_theoratic)}\")\n",
    "print(f\"GPT mean score: {np.mean(score_GPT)}\")"
   ]
  },
  {
   "cell_type": "markdown",
   "metadata": {},
   "source": [
    "### ACSPAP"
   ]
  },
  {
   "cell_type": "code",
   "execution_count": null,
   "metadata": {},
   "outputs": [],
   "source": [
    "# read npy file\n",
    "effort_theoratic, effort_GPT = np.load('results/pap_efforts.npy'), np.load('results/4o_PAP_efforts_GPT.npy') \n",
    "feature_list = ['SCHL','PINCP','WKHP']\n",
    "\n",
    "# get the logistic efforts\n",
    "logistic_efforts = np.mean(effort_theoratic, axis=0)\n",
    "plot_efforts(logistic_efforts, effort_GPT, feature_list, 3,1,\"4opap\",(10,2.5))"
   ]
  },
  {
   "cell_type": "code",
   "execution_count": null,
   "metadata": {},
   "outputs": [],
   "source": [
    "# read the score file\n",
    "score_theoratic, score_GPT, score_original = np.load('results/pap_strategy_scores.npy'), np.load('results/4o_PAP_strategy_scores_GPT.npy'), np.load('results/pap_original_scores.npy')\n",
    "prefix = \"4opap_strategy\"\n",
    "plot_scores(score_theoratic, score_GPT, score_original, prefix)\n",
    "\n",
    "print(f\"original mean score: {np.mean(score_original)}\")\n",
    "print(f\"theoratic mean score: {np.mean(score_theoratic)}\")\n",
    "print(f\"GPT mean score: {np.mean(score_GPT)}\")\n"
   ]
  },
  {
   "cell_type": "code",
   "execution_count": null,
   "metadata": {},
   "outputs": [],
   "source": [
    "# read the score file\n",
    "score_theoratic, score_GPT, score_original = np.load('results/pap_improve_scores.npy'), np.load('results/4o_PAP_improve_scores_GPT.npy'), np.load('results/pap_original_scores.npy')\n",
    "prefix = \"4opap_qualification\"\n",
    "plot_scores(score_theoratic, score_GPT, score_original, prefix)\n",
    "\n",
    "print(f\"original mean score: {np.mean(score_original)}\")\n",
    "print(f\"theoratic mean score: {np.mean(score_theoratic)}\")\n",
    "print(f\"GPT mean score: {np.mean(score_GPT)}\")\n"
   ]
  }
 ],
 "metadata": {
  "kernelspec": {
   "display_name": "base",
   "language": "python",
   "name": "python3"
  },
  "language_info": {
   "codemirror_mode": {
    "name": "ipython",
    "version": 3
   },
   "file_extension": ".py",
   "mimetype": "text/x-python",
   "name": "python",
   "nbconvert_exporter": "python",
   "pygments_lexer": "ipython3",
   "version": "3.11.4"
  }
 },
 "nbformat": 4,
 "nbformat_minor": 2
}
