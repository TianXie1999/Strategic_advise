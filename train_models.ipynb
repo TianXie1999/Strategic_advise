{
 "cells": [
  {
   "cell_type": "code",
   "execution_count": null,
   "metadata": {},
   "outputs": [],
   "source": [
    "from data_utils import *\n",
    "from model import *\n",
    "from algorithm import *\n",
    "import os\n",
    "import random\n",
    "import torch.optim as optim"
   ]
  },
  {
   "cell_type": "markdown",
   "metadata": {},
   "source": [
    "### Hiring"
   ]
  },
  {
   "cell_type": "code",
   "execution_count": null,
   "metadata": {},
   "outputs": [],
   "source": [
    "# dataset\n",
    "device = 'cpu'\n",
    "data = Hiring(device=device, decision=False)"
   ]
  },
  {
   "cell_type": "code",
   "execution_count": null,
   "metadata": {},
   "outputs": [],
   "source": [
    "# train model is too time consuming\n",
    "model_path = 'h_models/h_hiring_lr.pth'\n",
    "if os.path.exists(model_path):\n",
    "    print('h found, load h')\n",
    "    h = logReg(5)\n",
    "    h.load_state_dict(torch.load('h_models/h_hiring_lr.pth'))\n",
    "\n",
    "else:\n",
    "    print('train h')\n",
    "    test_acc = 0\n",
    "    for i in range(7):\n",
    "        np.random.seed(i)\n",
    "        torch.manual_seed(i)\n",
    "        random.seed(i)\n",
    "        h = logReg(5)\n",
    "        optimizer = optim.Adam(h.parameters(), lr=0.01, weight_decay=1e-4)\n",
    "        device = 'cpu'\n",
    "        batch_size = 256\n",
    "        n_epochs = 10\n",
    "        test_acc += 1/7*trainer_h(h, data, optimizer, device, n_epochs, batch_size)\n",
    "    \n",
    "    print(f'average model testng accuracy is {test_acc:4.2f}% ')     \n",
    "    torch.save(h.state_dict(), 'h_models/h_hiring_lr.pth')"
   ]
  },
  {
   "cell_type": "code",
   "execution_count": null,
   "metadata": {},
   "outputs": [],
   "source": [
    "test_data = Hiring(device=device, decision=True)"
   ]
  },
  {
   "cell_type": "code",
   "execution_count": null,
   "metadata": {},
   "outputs": [],
   "source": [
    "# train model is too time consuming\n",
    "model_path = 'f_models/f_lr_hiring.pth'\n",
    "if os.path.exists(model_path):\n",
    "    print('f found, load f')\n",
    "    h = logReg(5)\n",
    "    h.load_state_dict(torch.load('f_models/f_lr_hiring.pth'))\n",
    "\n",
    "else:\n",
    "    print('train f')\n",
    "    test_acc = 0\n",
    "    for i in range(3):\n",
    "        np.random.seed(i)\n",
    "        torch.manual_seed(i)\n",
    "        random.seed(i)\n",
    "        h = logReg(5)\n",
    "        optimizer = optim.Adam(h.parameters(), lr=0.01, weight_decay=1e-4)\n",
    "        device = 'cpu'\n",
    "        batch_size = 256\n",
    "        n_epochs = 10\n",
    "        test_acc += 1/3*trainer_h(h, test_data, optimizer, device, n_epochs, batch_size)\n",
    "    \n",
    "    print(f'average model testng accuracy is {test_acc:4.2f}% ')     \n",
    "    torch.save(h.state_dict(), 'f_models/f_lr_hiring.pth')"
   ]
  },
  {
   "cell_type": "markdown",
   "metadata": {},
   "source": [
    "### Law"
   ]
  },
  {
   "cell_type": "code",
   "execution_count": null,
   "metadata": {},
   "outputs": [],
   "source": [
    "# dataset\n",
    "device = 'cpu'\n",
    "data = LawDataset(device=device, decision=False)"
   ]
  },
  {
   "cell_type": "code",
   "execution_count": null,
   "metadata": {},
   "outputs": [],
   "source": [
    "# train model is too time consuming\n",
    "model_path = 'h_models/h_law_lr.pth'\n",
    "if os.path.exists(model_path):\n",
    "    print('h found, load h')\n",
    "    h = logReg(3)\n",
    "    h.load_state_dict(torch.load('h_models/h_law_lr.pth'))\n",
    "\n",
    "else:\n",
    "    print('train h')\n",
    "    test_acc = 0\n",
    "    for i in range(7):\n",
    "        np.random.seed(i)\n",
    "        torch.manual_seed(i)\n",
    "        random.seed(i)\n",
    "        h = logReg(3)\n",
    "        optimizer = optim.Adam(h.parameters(), lr=0.01, weight_decay=1e-4)\n",
    "        device = 'cpu'\n",
    "        batch_size = 256\n",
    "        n_epochs = 10\n",
    "        test_acc += 1/7*trainer_h(h, data, optimizer, device, n_epochs, batch_size)\n",
    "    \n",
    "    print(f'average model testng accuracy is {test_acc:4.2f}% ')     \n",
    "    torch.save(h.state_dict(), 'h_models/h_law_lr.pth')"
   ]
  },
  {
   "cell_type": "code",
   "execution_count": null,
   "metadata": {},
   "outputs": [],
   "source": [
    "h.state_dict()"
   ]
  },
  {
   "cell_type": "code",
   "execution_count": null,
   "metadata": {},
   "outputs": [],
   "source": [
    "# train model is too time consuming\n",
    "model_path = 'h_models/h_law_mlp.pth'\n",
    "if os.path.exists(model_path):\n",
    "    print('h found, load h')\n",
    "    h = MLP(3,[2])\n",
    "    h.load_state_dict(torch.load('h_models/h_law_mlp.pth'))\n",
    "\n",
    "else:\n",
    "    print('train h')\n",
    "    test_acc = 0\n",
    "    for i in range(7):\n",
    "        np.random.seed(i)\n",
    "        torch.manual_seed(i)\n",
    "        random.seed(i)\n",
    "        h = MLP(3,[2])\n",
    "        optimizer = optim.Adam(h.parameters(), lr=0.1, weight_decay=1e-4)\n",
    "        device = 'cpu'\n",
    "        batch_size = 256\n",
    "        n_epochs = 10\n",
    "        test_acc += 1/7*trainer_h(h, data, optimizer, device, n_epochs, batch_size)\n",
    "    \n",
    "    print(f'average model testng accuracy is {test_acc:4.2f}% ')     \n",
    "    torch.save(h.state_dict(), 'h_models/h_law_mlp.pth')"
   ]
  },
  {
   "cell_type": "code",
   "execution_count": null,
   "metadata": {},
   "outputs": [],
   "source": [
    "test_data = LawDataset(device=device, decision=True)"
   ]
  },
  {
   "cell_type": "code",
   "execution_count": null,
   "metadata": {},
   "outputs": [],
   "source": [
    "# train model is too time consuming\n",
    "model_path = 'f_models/f_lr_law.pth'\n",
    "if os.path.exists(model_path):\n",
    "    print('f_lr found, load f_LR')\n",
    "    flr = logReg(3) \n",
    "    flr.load_state_dict(torch.load('f_models/f_lr_law.pth'))\n",
    "\n",
    "else:\n",
    "    print('train f_MLP')\n",
    "    test_acc = 0\n",
    "    for i in range(4):\n",
    "        np.random.seed(i)\n",
    "        torch.manual_seed(i)\n",
    "        random.seed(i)\n",
    "        h = logReg(3)\n",
    "        optimizer = optim.Adam(h.parameters(), lr=0.1, weight_decay=1e-4)\n",
    "        device = 'cpu'\n",
    "        batch_size = 64\n",
    "        n_epochs = 30\n",
    "        test_acc += 1/4*trainer_h(h, test_data, optimizer, device, n_epochs, batch_size)\n",
    "    \n",
    "    print(f'average model testng accuracy is {test_acc:4.2f}% ')     \n",
    "    torch.save(h.state_dict(), 'f_models/f_lr_law.pth')"
   ]
  },
  {
   "cell_type": "code",
   "execution_count": null,
   "metadata": {},
   "outputs": [],
   "source": [
    "# train model is too time consuming\n",
    "model_path = 'f_models/f_mlp_law.pth'\n",
    "if os.path.exists(model_path):\n",
    "    print('f_lr found, load f_LR')\n",
    "    flr = MLP(3,[2])\n",
    "    flr.load_state_dict(torch.load('f_models/f_mlp_law.pth'))\n",
    "\n",
    "else:\n",
    "    print('train f_MLP')\n",
    "    test_acc = 0\n",
    "    for i in range(4):\n",
    "        np.random.seed(i)\n",
    "        torch.manual_seed(i)\n",
    "        random.seed(i)\n",
    "        h = MLP(3,[2])\n",
    "        optimizer = optim.Adam(h.parameters(), lr=0.1, weight_decay=1e-4)\n",
    "        device = 'cpu'\n",
    "        batch_size = 128\n",
    "        n_epochs = 30\n",
    "        test_acc += 1/4*trainer_h(h, test_data, optimizer, device, n_epochs, batch_size)\n",
    "    \n",
    "    print(f'average model testng accuracy is {test_acc:4.2f}% ')     \n",
    "    torch.save(h.state_dict(), 'f_models/f_mlp_law.pth')"
   ]
  },
  {
   "cell_type": "markdown",
   "metadata": {},
   "source": [
    "### ACSPAP"
   ]
  },
  {
   "cell_type": "code",
   "execution_count": null,
   "metadata": {},
   "outputs": [],
   "source": [
    "# dataset\n",
    "device = 'cpu'\n",
    "data = ACSPAP(device = device, decision=False)\n",
    "\n",
    "data.preprocess_pap_dataset()[0]\n",
    "\n"
   ]
  },
  {
   "cell_type": "code",
   "execution_count": null,
   "metadata": {},
   "outputs": [],
   "source": [
    "# train model is too time consuming\n",
    "model_path = 'h_models/h_pap_mlp.pth'\n",
    "if os.path.exists(model_path):\n",
    "    print('h found, load h')\n",
    "    h = MLP(4, [16,8,4])\n",
    "    h.load_state_dict(torch.load('h_models/h_pap_mlp.pth'))\n",
    "\n",
    "else:\n",
    "    print('train h')\n",
    "    test_acc = 0\n",
    "    for i in range(7):\n",
    "        np.random.seed(i)\n",
    "        torch.manual_seed(i)\n",
    "        random.seed(i)\n",
    "        h = MLP(4, [16,8,4])\n",
    "        optimizer = optim.Adam(h.parameters(), lr=0.05, weight_decay=1e-4)\n",
    "        device = 'cpu'\n",
    "        batch_size = 256\n",
    "        n_epochs = 10\n",
    "        test_acc += 1/7*trainer_h(h, data, optimizer, device, n_epochs, batch_size)\n",
    "    \n",
    "    print(f'average model testng accuracy is {test_acc:4.2f}% ')     \n",
    "    torch.save(h.state_dict(), 'h_models/h_pap_mlp.pth')"
   ]
  },
  {
   "cell_type": "code",
   "execution_count": null,
   "metadata": {},
   "outputs": [],
   "source": [
    "test_data = ACSPAP(device=device, decision=True)"
   ]
  },
  {
   "cell_type": "code",
   "execution_count": null,
   "metadata": {},
   "outputs": [],
   "source": [
    "# train model is too time consuming\n",
    "model_path = 'f_models/f_lr_pap.pth'\n",
    "if os.path.exists(model_path):\n",
    "    print('f_lr found, load f_lr')\n",
    "    flr = logReg(4)\n",
    "    flr.load_state_dict(torch.load('f_models/f_lr_pap.pth'))\n",
    "\n",
    "else:\n",
    "    print('train f_lr')\n",
    "    test_acc = 0\n",
    "    for i in range(7):\n",
    "        np.random.seed(i)\n",
    "        torch.manual_seed(i)\n",
    "        random.seed(i)\n",
    "        h = logReg(4)\n",
    "        optimizer = optim.Adam(h.parameters(), lr=0.05, weight_decay=1e-4)\n",
    "        device = 'cpu'\n",
    "        batch_size = 256\n",
    "        n_epochs = 10\n",
    "        test_acc += 1/7*trainer_h(h, test_data, optimizer, device, n_epochs, batch_size)\n",
    "    \n",
    "    print(f'average model testng accuracy is {test_acc:4.2f}% ')     \n",
    "    torch.save(h.state_dict(), 'f_models/f_lr_pap.pth')"
   ]
  },
  {
   "cell_type": "markdown",
   "metadata": {},
   "source": [
    "### ACSIncome"
   ]
  },
  {
   "cell_type": "code",
   "execution_count": null,
   "metadata": {},
   "outputs": [],
   "source": [
    "# dataset\n",
    "device = 'cpu'\n",
    "data = ACSIncome(device = device, decision=False)"
   ]
  },
  {
   "cell_type": "code",
   "execution_count": null,
   "metadata": {},
   "outputs": [],
   "source": [
    "data.preprocess_income_dataset()[0]"
   ]
  },
  {
   "cell_type": "code",
   "execution_count": null,
   "metadata": {},
   "outputs": [],
   "source": [
    "# train model is too time consuming\n",
    "model_path = 'h_models/h_income_mlp.pth'\n",
    "if os.path.exists(model_path):\n",
    "    print('h found, load h')\n",
    "    h = MLP(4, [16,8,4])\n",
    "    h.load_state_dict(torch.load('h_models/h_income_mlp.pth'))\n",
    "\n",
    "else:\n",
    "    print('train h')\n",
    "    test_acc = 0\n",
    "    for i in range(7):\n",
    "        np.random.seed(i)\n",
    "        torch.manual_seed(i)\n",
    "        random.seed(i)\n",
    "        h = MLP(4, [16,8,4])\n",
    "        optimizer = optim.Adam(h.parameters(), lr=0.05, weight_decay=1e-4)\n",
    "        device = 'cpu'\n",
    "        batch_size = 256\n",
    "        n_epochs = 10\n",
    "        test_acc += 1/7*trainer_h(h, data, optimizer, device, n_epochs, batch_size)\n",
    "    \n",
    "    print(f'average model testng accuracy is {test_acc:4.2f}% ')     \n",
    "    torch.save(h.state_dict(), 'h_models/h_income_mlp.pth')"
   ]
  },
  {
   "cell_type": "code",
   "execution_count": null,
   "metadata": {},
   "outputs": [],
   "source": [
    "test_data = ACSIncome(device = device, decision=True)"
   ]
  },
  {
   "cell_type": "code",
   "execution_count": null,
   "metadata": {},
   "outputs": [],
   "source": [
    "# train model is too time consuming\n",
    "model_path = 'f_models/f_MLP_income.pth'\n",
    "if os.path.exists(model_path):\n",
    "    print('f_MLP found, load f_LR')\n",
    "    flr = MLP(4, [16,8,4])\n",
    "    flr.load_state_dict(torch.load('f_models/f_MLP_income.pth'))\n",
    "\n",
    "else:\n",
    "    print('train f_LR')\n",
    "    test_acc = 0\n",
    "    for i in range(7):\n",
    "        np.random.seed(i)\n",
    "        torch.manual_seed(i)\n",
    "        random.seed(i)\n",
    "        h = MLP(4, [16,8,4])\n",
    "        optimizer = optim.Adam(h.parameters(), lr=0.05, weight_decay=1e-4)\n",
    "        device = 'cpu'\n",
    "        batch_size = 256\n",
    "        n_epochs = 10\n",
    "        test_acc += 1/7*trainer_h(h, test_data, optimizer, device, n_epochs, batch_size)\n",
    "    \n",
    "    print(f'average model testng accuracy is {test_acc:4.2f}% ')     \n",
    "    torch.save(h.state_dict(), 'f_models/f_MLP_income.pth')"
   ]
  },
  {
   "cell_type": "markdown",
   "metadata": {},
   "source": [
    "### ACSPublicoverage"
   ]
  },
  {
   "cell_type": "code",
   "execution_count": null,
   "metadata": {},
   "outputs": [],
   "source": [
    "device = 'cpu'\n",
    "data = ACSPublic(device = device, decision=False)"
   ]
  },
  {
   "cell_type": "code",
   "execution_count": null,
   "metadata": {},
   "outputs": [],
   "source": [
    "# train model is too time consuming\n",
    "model_path = 'h_models/h_public_mlp.pth'\n",
    "if os.path.exists(model_path):\n",
    "    print('h found, load h')\n",
    "    h = MLP(4, [16,8,4])\n",
    "    h.load_state_dict(torch.load('h_models/h_public_mlp.pth'))\n",
    "\n",
    "else:\n",
    "    print('train h')\n",
    "    test_acc = 0\n",
    "    for i in range(7):\n",
    "        np.random.seed(i)\n",
    "        torch.manual_seed(i)\n",
    "        random.seed(i)\n",
    "        h = MLP(4, [16,8,4])\n",
    "        optimizer = optim.Adam(h.parameters(), lr=0.05, weight_decay=1e-4)\n",
    "        device = 'cpu'\n",
    "        batch_size = 256\n",
    "        n_epochs = 10\n",
    "        test_acc += 1/7*trainer_h(h, data, optimizer, device, n_epochs, batch_size)\n",
    "    \n",
    "    print(f'average model testng accuracy is {test_acc:4.2f}% ')     \n",
    "    torch.save(h.state_dict(), 'h_models/h_public_mlp.pth')"
   ]
  },
  {
   "cell_type": "code",
   "execution_count": null,
   "metadata": {},
   "outputs": [],
   "source": [
    "test_data = ACSPublic(device = device, decision=True)"
   ]
  },
  {
   "cell_type": "code",
   "execution_count": null,
   "metadata": {},
   "outputs": [],
   "source": [
    "# train model is too time consuming\n",
    "model_path = 'f_models/f_MLP_public.pth'\n",
    "if os.path.exists(model_path):\n",
    "    print('f_MLP found, load f_MLP')\n",
    "    flr = MLP(4, [16,8,4])\n",
    "    flr.load_state_dict(torch.load('f_models/f_MLP_public.pth'))\n",
    "\n",
    "else:\n",
    "    print('train f_MLP')\n",
    "    test_acc = 0\n",
    "    for i in range(7):\n",
    "        np.random.seed(i)\n",
    "        torch.manual_seed(i)\n",
    "        random.seed(i)\n",
    "        h = MLP(4, [16,8,4])\n",
    "        optimizer = optim.Adam(h.parameters(), lr=0.05, weight_decay=1e-4)\n",
    "        device = 'cpu'\n",
    "        batch_size = 256\n",
    "        n_epochs = 10\n",
    "        test_acc += 1/7*trainer_h(h, test_data, optimizer, device, n_epochs, batch_size)\n",
    "    \n",
    "    print(f'average model testng accuracy is {test_acc:4.2f}% ')     \n",
    "    torch.save(h.state_dict(), 'f_models/f_MLP_public.pth')"
   ]
  },
  {
   "cell_type": "markdown",
   "metadata": {},
   "source": [
    "### Credit"
   ]
  },
  {
   "cell_type": "code",
   "execution_count": null,
   "metadata": {},
   "outputs": [],
   "source": [
    "device = 'cpu'\n",
    "data = CreditDataset(device = device,decision=False)"
   ]
  },
  {
   "cell_type": "code",
   "execution_count": null,
   "metadata": {},
   "outputs": [],
   "source": [
    "# train model is too time consuming\n",
    "model_path = 'h_models/h_credit_MLP.pth'\n",
    "if os.path.exists(model_path):\n",
    "    print('h found, load h')\n",
    "    h = MLP(10, [64,16,4])\n",
    "    h.load_state_dict(torch.load('h_models/h_credit_MLP.pth'))\n",
    "\n",
    "else:\n",
    "    print('train h')\n",
    "    test_acc = 0\n",
    "    for i in range(7):\n",
    "        np.random.seed(i)\n",
    "        torch.manual_seed(i)\n",
    "        random.seed(i)\n",
    "        h = MLP(10, [64,16,4])\n",
    "        optimizer = optim.Adam(h.parameters(), lr=0.05, weight_decay=1e-4)\n",
    "        device = 'cpu'\n",
    "        batch_size = 256\n",
    "        n_epochs = 10\n",
    "        test_acc += 1/7*trainer_h(h, data, optimizer, device, n_epochs, batch_size)\n",
    "    \n",
    "    print(f'average model testng accuracy is {test_acc:4.2f}% ')     \n",
    "    torch.save(h.state_dict(), 'h_models/h_credit_MLP.pth')"
   ]
  },
  {
   "cell_type": "code",
   "execution_count": null,
   "metadata": {},
   "outputs": [],
   "source": [
    "test_data = CreditDataset(device = device,decision=True)\n",
    "# train model is too time consuming\n",
    "model_path = 'f_models/f_MLP_credit.pth'\n",
    "if os.path.exists(model_path):\n",
    "    print('f_MLP found, load f_MLP')\n",
    "    flr = MLP(10, [64,16,4])\n",
    "    flr.load_state_dict(torch.load('f_models/f_MLP_credit.pth'))\n",
    "\n",
    "else:\n",
    "    print('train f_MLP')\n",
    "    test_acc = 0\n",
    "    for i in range(7):\n",
    "        np.random.seed(i)\n",
    "        torch.manual_seed(i)\n",
    "        random.seed(i)\n",
    "        flr = MLP(10, [64,16,4])\n",
    "        optimizer = optim.Adam(flr.parameters(), lr=0.05, weight_decay=1e-4)\n",
    "        device = 'cpu'\n",
    "        batch_size = 256\n",
    "        n_epochs = 10\n",
    "        test_acc += 1/7*trainer_h(flr, test_data, optimizer, device, n_epochs, batch_size)\n",
    "    \n",
    "    print(f'average model testng accuracy is {test_acc:4.2f}% ')     \n",
    "    torch.save(flr.state_dict(), 'f_models/f_MLP_credit.pth')"
   ]
  }
 ],
 "metadata": {
  "kernelspec": {
   "display_name": "base",
   "language": "python",
   "name": "python3"
  },
  "language_info": {
   "codemirror_mode": {
    "name": "ipython",
    "version": 3
   },
   "file_extension": ".py",
   "mimetype": "text/x-python",
   "name": "python",
   "nbconvert_exporter": "python",
   "pygments_lexer": "ipython3",
   "version": "3.11.4"
  }
 },
 "nbformat": 4,
 "nbformat_minor": 2
}
